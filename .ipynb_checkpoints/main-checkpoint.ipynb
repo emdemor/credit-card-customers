{
 "cells": [
  {
   "cell_type": "markdown",
   "metadata": {},
   "source": [
    "![title](source/banner.png)\n"
   ]
  },
  {
   "cell_type": "markdown",
   "metadata": {},
   "source": [
    "**Author**: Eduardo M. de Morais, MSc.\n",
    "\n",
    "**Date**: Aug 23 2020\n",
    "<a id=\"toc\"></a>\n",
    "# Table of Contents\n",
    "1. [Introduction](#intro)\n",
    "2. [Initializing](#initializing)\n",
    "3. [Dataset Importing](#dataset)\n",
    "4. [Feature Engineering](#feat)\n",
    "5. [K-Means Clusterization](#kmeans)\n",
    "6. [Results](#resul)\n",
    "\n"
   ]
  },
  {
   "cell_type": "markdown",
   "metadata": {},
   "source": [
    "<a id=\"intro\"></a>\n",
    "## 1. Introduction\n",
    "\n",
    "It is useful to identify customer segments with similar behaviors to plan the choice of specific marketing strategies. This type of information gives companies the ability to decrease the likelihood of losses, increase profits and improve the consumer experience through.\n",
    "\n",
    "In this case study, i will use the following database:\n",
    "\n",
    "Dataset Source: https://www.kaggle.com/arjunbhasin2013/ccdata?select=CC+GENERAL.csv.\n",
    "\n",
    "The sample data setsummarizes the usage behavior of approximately 9,000 active credit card holders during the past 6 months. The file is at the customer level with 18 behavioral variables.\n",
    "\n",
    "The following is the Data Dictionary for credit card data set: -\n",
    "This case requires the development of a customer segmentation to define the marketing strategy. The\n",
    "The sample data set summarizes the usage behavior of approximately 9,000 active credit card holders during the past 6 months. The file is at the customer level with 18 behavioral variables.\n",
    "\n",
    "The following is the Data Dictionary for credit card data set: -\n",
    "This case requires the development of a customer segmentation to define the marketing strategy. The\n",
    "The sample data set summarizes the usage behavior of approximately 9,000 active credit card holders during the past 6 months. The file is at the customer level with 18 behavioral variables."
   ]
  },
  {
   "cell_type": "markdown",
   "metadata": {},
   "source": [
    "\n",
    "\n",
    "Following is the Data Dictionary for Credit Card dataset :-\n",
    "\n",
    "\n",
    "**CUSTID** : Identification of Credit Card holder (Categorical)\n",
    "\n",
    "**BALANCE** : Balance amount left in their account to make purchases\n",
    "\n",
    "**BALANCEFREQUENCY** : How frequently the Balance is updated, score between 0 and 1 (1 = frequently updated, 0 = not frequently updated)\n",
    "\n",
    "**PURCHASES** : Amount of purchases made from account\n",
    "\n",
    "**ONEOFFPURCHASES** : Maximum purchase amount done in one-go\n",
    "\n",
    "**INSTALLMENTSPURCHASES** : Amount of purchase done in installment\n",
    "\n",
    "**CASHADVANCE** : Cash in advance given by the user\n",
    "\n",
    "**PURCHASESFREQUENCY** : How frequently the Purchases are being made, score between 0 and 1 (1 = frequently purchased, 0 = not frequently purchased)\n",
    "\n",
    "**ONEOFFPURCHASESFREQUENCY** : How frequently Purchases are happening in one-go (1 = frequently purchased, 0 = not frequently purchased)\n",
    "\n",
    "**PURCHASESINSTALLMENTSFREQUENCY** : How frequently purchases in installments are being done (1 = frequently done, 0 = not frequently done)\n",
    "\n",
    "**CASHADVANCEFREQUENCY** : How frequently the cash in advance being paid\n",
    "\n",
    "**CASHADVANCETRX** : Number of Transactions made with \"Cash in Advanced\"\n",
    "\n",
    "**PURCHASESTRX** : Numbe of purchase transactions made\n",
    "\n",
    "**CREDITLIMIT** : Limit of Credit Card for user\n",
    "\n",
    "**PAYMENTS** : Amount of Payment done by user\n",
    "\n",
    "**MINIMUM_PAYMENTS** : Minimum amount of payments made by user\n",
    "\n",
    "**PRCFULLPAYMENT** : Percent of full payment paid by user\n",
    "\n",
    "**TENURE** : Tenure of credit card service for user"
   ]
  },
  {
   "cell_type": "markdown",
   "metadata": {},
   "source": [
    "[[TOC]](#toc)\n",
    "<a id=\"initializing\"></a>\n",
    "## 2. Initializing"
   ]
  },
  {
   "cell_type": "code",
   "execution_count": 2,
   "metadata": {},
   "outputs": [],
   "source": [
    "import numpy as np\n",
    "import pandas as pd\n",
    "import matplotlib.pyplot as plt\n",
    "\n",
    "from tqdm import tqdm\n",
    "\n",
    "from sklearn.preprocessing import Normalizer\n",
    "from sklearn.cluster import KMeans\n",
    "from sklearn.metrics import silhouette_score\n",
    "\n",
    "\n",
    "from sklearn.metrics import calinski_harabasz_score\n",
    "from sklearn.metrics import davies_bouldin_score"
   ]
  },
  {
   "cell_type": "markdown",
   "metadata": {},
   "source": [
    "[[TOC]](#toc)<a id=\"dataset\"></a>\n",
    "## 3. Dataset Importing"
   ]
  },
  {
   "cell_type": "code",
   "execution_count": 3,
   "metadata": {},
   "outputs": [
    {
     "data": {
      "text/html": [
       "<div>\n",
       "<style scoped>\n",
       "    .dataframe tbody tr th:only-of-type {\n",
       "        vertical-align: middle;\n",
       "    }\n",
       "\n",
       "    .dataframe tbody tr th {\n",
       "        vertical-align: top;\n",
       "    }\n",
       "\n",
       "    .dataframe thead th {\n",
       "        text-align: right;\n",
       "    }\n",
       "</style>\n",
       "<table border=\"1\" class=\"dataframe\">\n",
       "  <thead>\n",
       "    <tr style=\"text-align: right;\">\n",
       "      <th></th>\n",
       "      <th>CUST_ID</th>\n",
       "      <th>BALANCE</th>\n",
       "      <th>BALANCE_FREQUENCY</th>\n",
       "      <th>PURCHASES</th>\n",
       "      <th>ONEOFF_PURCHASES</th>\n",
       "      <th>INSTALLMENTS_PURCHASES</th>\n",
       "      <th>CASH_ADVANCE</th>\n",
       "      <th>PURCHASES_FREQUENCY</th>\n",
       "      <th>ONEOFF_PURCHASES_FREQUENCY</th>\n",
       "      <th>PURCHASES_INSTALLMENTS_FREQUENCY</th>\n",
       "      <th>CASH_ADVANCE_FREQUENCY</th>\n",
       "      <th>CASH_ADVANCE_TRX</th>\n",
       "      <th>PURCHASES_TRX</th>\n",
       "      <th>CREDIT_LIMIT</th>\n",
       "      <th>PAYMENTS</th>\n",
       "      <th>MINIMUM_PAYMENTS</th>\n",
       "      <th>PRC_FULL_PAYMENT</th>\n",
       "      <th>TENURE</th>\n",
       "    </tr>\n",
       "  </thead>\n",
       "  <tbody>\n",
       "    <tr>\n",
       "      <th>5756</th>\n",
       "      <td>C15917</td>\n",
       "      <td>741.053580</td>\n",
       "      <td>1.000000</td>\n",
       "      <td>0.00</td>\n",
       "      <td>0.00</td>\n",
       "      <td>0.0</td>\n",
       "      <td>37.527333</td>\n",
       "      <td>0.000000</td>\n",
       "      <td>0.000000</td>\n",
       "      <td>0.0</td>\n",
       "      <td>0.083333</td>\n",
       "      <td>1</td>\n",
       "      <td>0</td>\n",
       "      <td>1200.0</td>\n",
       "      <td>1267.067064</td>\n",
       "      <td>231.513272</td>\n",
       "      <td>0.0</td>\n",
       "      <td>12</td>\n",
       "    </tr>\n",
       "    <tr>\n",
       "      <th>4199</th>\n",
       "      <td>C14316</td>\n",
       "      <td>484.707240</td>\n",
       "      <td>0.714286</td>\n",
       "      <td>960.00</td>\n",
       "      <td>960.00</td>\n",
       "      <td>0.0</td>\n",
       "      <td>531.964001</td>\n",
       "      <td>0.142857</td>\n",
       "      <td>0.142857</td>\n",
       "      <td>0.0</td>\n",
       "      <td>0.285714</td>\n",
       "      <td>2</td>\n",
       "      <td>1</td>\n",
       "      <td>2000.0</td>\n",
       "      <td>199.836894</td>\n",
       "      <td>146.202669</td>\n",
       "      <td>0.0</td>\n",
       "      <td>7</td>\n",
       "    </tr>\n",
       "    <tr>\n",
       "      <th>3295</th>\n",
       "      <td>C13389</td>\n",
       "      <td>1132.615315</td>\n",
       "      <td>1.000000</td>\n",
       "      <td>136.19</td>\n",
       "      <td>136.19</td>\n",
       "      <td>0.0</td>\n",
       "      <td>0.000000</td>\n",
       "      <td>0.166667</td>\n",
       "      <td>0.166667</td>\n",
       "      <td>0.0</td>\n",
       "      <td>0.000000</td>\n",
       "      <td>0</td>\n",
       "      <td>2</td>\n",
       "      <td>5100.0</td>\n",
       "      <td>346.986446</td>\n",
       "      <td>407.889131</td>\n",
       "      <td>0.0</td>\n",
       "      <td>12</td>\n",
       "    </tr>\n",
       "    <tr>\n",
       "      <th>8018</th>\n",
       "      <td>C18235</td>\n",
       "      <td>1125.306541</td>\n",
       "      <td>1.000000</td>\n",
       "      <td>703.05</td>\n",
       "      <td>703.05</td>\n",
       "      <td>0.0</td>\n",
       "      <td>0.000000</td>\n",
       "      <td>0.250000</td>\n",
       "      <td>0.250000</td>\n",
       "      <td>0.0</td>\n",
       "      <td>0.000000</td>\n",
       "      <td>0</td>\n",
       "      <td>9</td>\n",
       "      <td>1300.0</td>\n",
       "      <td>104.476763</td>\n",
       "      <td>421.150061</td>\n",
       "      <td>0.0</td>\n",
       "      <td>8</td>\n",
       "    </tr>\n",
       "    <tr>\n",
       "      <th>4077</th>\n",
       "      <td>C14193</td>\n",
       "      <td>869.947607</td>\n",
       "      <td>1.000000</td>\n",
       "      <td>0.00</td>\n",
       "      <td>0.00</td>\n",
       "      <td>0.0</td>\n",
       "      <td>875.275758</td>\n",
       "      <td>0.000000</td>\n",
       "      <td>0.000000</td>\n",
       "      <td>0.0</td>\n",
       "      <td>0.250000</td>\n",
       "      <td>4</td>\n",
       "      <td>0</td>\n",
       "      <td>3000.0</td>\n",
       "      <td>284.200413</td>\n",
       "      <td>351.686512</td>\n",
       "      <td>0.0</td>\n",
       "      <td>12</td>\n",
       "    </tr>\n",
       "  </tbody>\n",
       "</table>\n",
       "</div>"
      ],
      "text/plain": [
       "     CUST_ID      BALANCE  BALANCE_FREQUENCY  PURCHASES  ONEOFF_PURCHASES  \\\n",
       "5756  C15917   741.053580           1.000000       0.00              0.00   \n",
       "4199  C14316   484.707240           0.714286     960.00            960.00   \n",
       "3295  C13389  1132.615315           1.000000     136.19            136.19   \n",
       "8018  C18235  1125.306541           1.000000     703.05            703.05   \n",
       "4077  C14193   869.947607           1.000000       0.00              0.00   \n",
       "\n",
       "      INSTALLMENTS_PURCHASES  CASH_ADVANCE  PURCHASES_FREQUENCY  \\\n",
       "5756                     0.0     37.527333             0.000000   \n",
       "4199                     0.0    531.964001             0.142857   \n",
       "3295                     0.0      0.000000             0.166667   \n",
       "8018                     0.0      0.000000             0.250000   \n",
       "4077                     0.0    875.275758             0.000000   \n",
       "\n",
       "      ONEOFF_PURCHASES_FREQUENCY  PURCHASES_INSTALLMENTS_FREQUENCY  \\\n",
       "5756                    0.000000                               0.0   \n",
       "4199                    0.142857                               0.0   \n",
       "3295                    0.166667                               0.0   \n",
       "8018                    0.250000                               0.0   \n",
       "4077                    0.000000                               0.0   \n",
       "\n",
       "      CASH_ADVANCE_FREQUENCY  CASH_ADVANCE_TRX  PURCHASES_TRX  CREDIT_LIMIT  \\\n",
       "5756                0.083333                 1              0        1200.0   \n",
       "4199                0.285714                 2              1        2000.0   \n",
       "3295                0.000000                 0              2        5100.0   \n",
       "8018                0.000000                 0              9        1300.0   \n",
       "4077                0.250000                 4              0        3000.0   \n",
       "\n",
       "         PAYMENTS  MINIMUM_PAYMENTS  PRC_FULL_PAYMENT  TENURE  \n",
       "5756  1267.067064        231.513272               0.0      12  \n",
       "4199   199.836894        146.202669               0.0       7  \n",
       "3295   346.986446        407.889131               0.0      12  \n",
       "8018   104.476763        421.150061               0.0       8  \n",
       "4077   284.200413        351.686512               0.0      12  "
      ]
     },
     "execution_count": 3,
     "metadata": {},
     "output_type": "execute_result"
    }
   ],
   "source": [
    "df = pd.read_csv('data/CC GENERAL.csv')\n",
    "df.sample(5)"
   ]
  },
  {
   "cell_type": "markdown",
   "metadata": {},
   "source": [
    "[[TOC]](#toc)<a id=\"feat\"></a>\n",
    "## 4. Feature Engineering"
   ]
  },
  {
   "cell_type": "markdown",
   "metadata": {},
   "source": [
    "Dropping the columns with data not related with the customer behaviour"
   ]
  },
  {
   "cell_type": "code",
   "execution_count": 4,
   "metadata": {},
   "outputs": [
    {
     "data": {
      "text/html": [
       "<div>\n",
       "<style scoped>\n",
       "    .dataframe tbody tr th:only-of-type {\n",
       "        vertical-align: middle;\n",
       "    }\n",
       "\n",
       "    .dataframe tbody tr th {\n",
       "        vertical-align: top;\n",
       "    }\n",
       "\n",
       "    .dataframe thead th {\n",
       "        text-align: right;\n",
       "    }\n",
       "</style>\n",
       "<table border=\"1\" class=\"dataframe\">\n",
       "  <thead>\n",
       "    <tr style=\"text-align: right;\">\n",
       "      <th></th>\n",
       "      <th>BALANCE</th>\n",
       "      <th>BALANCE_FREQUENCY</th>\n",
       "      <th>PURCHASES</th>\n",
       "      <th>ONEOFF_PURCHASES</th>\n",
       "      <th>INSTALLMENTS_PURCHASES</th>\n",
       "      <th>CASH_ADVANCE</th>\n",
       "      <th>PURCHASES_FREQUENCY</th>\n",
       "      <th>ONEOFF_PURCHASES_FREQUENCY</th>\n",
       "      <th>PURCHASES_INSTALLMENTS_FREQUENCY</th>\n",
       "      <th>CASH_ADVANCE_FREQUENCY</th>\n",
       "      <th>CASH_ADVANCE_TRX</th>\n",
       "      <th>PURCHASES_TRX</th>\n",
       "      <th>CREDIT_LIMIT</th>\n",
       "      <th>PAYMENTS</th>\n",
       "      <th>MINIMUM_PAYMENTS</th>\n",
       "      <th>PRC_FULL_PAYMENT</th>\n",
       "    </tr>\n",
       "  </thead>\n",
       "  <tbody>\n",
       "    <tr>\n",
       "      <th>906</th>\n",
       "      <td>1701.203320</td>\n",
       "      <td>1.000000</td>\n",
       "      <td>302.00</td>\n",
       "      <td>0.00</td>\n",
       "      <td>302.00</td>\n",
       "      <td>796.570678</td>\n",
       "      <td>0.500000</td>\n",
       "      <td>0.000000</td>\n",
       "      <td>0.416667</td>\n",
       "      <td>0.083333</td>\n",
       "      <td>1</td>\n",
       "      <td>6</td>\n",
       "      <td>2000.0</td>\n",
       "      <td>784.873315</td>\n",
       "      <td>567.761469</td>\n",
       "      <td>0.000000</td>\n",
       "    </tr>\n",
       "    <tr>\n",
       "      <th>4328</th>\n",
       "      <td>852.001697</td>\n",
       "      <td>0.727273</td>\n",
       "      <td>372.36</td>\n",
       "      <td>0.00</td>\n",
       "      <td>372.36</td>\n",
       "      <td>1655.625508</td>\n",
       "      <td>0.416667</td>\n",
       "      <td>0.000000</td>\n",
       "      <td>0.416667</td>\n",
       "      <td>0.166667</td>\n",
       "      <td>3</td>\n",
       "      <td>5</td>\n",
       "      <td>4000.0</td>\n",
       "      <td>347.937039</td>\n",
       "      <td>262.219868</td>\n",
       "      <td>0.000000</td>\n",
       "    </tr>\n",
       "    <tr>\n",
       "      <th>6615</th>\n",
       "      <td>1100.505764</td>\n",
       "      <td>1.000000</td>\n",
       "      <td>220.00</td>\n",
       "      <td>220.00</td>\n",
       "      <td>0.00</td>\n",
       "      <td>0.000000</td>\n",
       "      <td>0.166667</td>\n",
       "      <td>0.166667</td>\n",
       "      <td>0.000000</td>\n",
       "      <td>0.000000</td>\n",
       "      <td>0</td>\n",
       "      <td>2</td>\n",
       "      <td>1200.0</td>\n",
       "      <td>344.856423</td>\n",
       "      <td>623.734943</td>\n",
       "      <td>0.000000</td>\n",
       "    </tr>\n",
       "    <tr>\n",
       "      <th>8419</th>\n",
       "      <td>510.339352</td>\n",
       "      <td>1.000000</td>\n",
       "      <td>509.55</td>\n",
       "      <td>509.55</td>\n",
       "      <td>0.00</td>\n",
       "      <td>696.126211</td>\n",
       "      <td>0.250000</td>\n",
       "      <td>0.250000</td>\n",
       "      <td>0.000000</td>\n",
       "      <td>0.166667</td>\n",
       "      <td>4</td>\n",
       "      <td>6</td>\n",
       "      <td>2500.0</td>\n",
       "      <td>1346.043822</td>\n",
       "      <td>194.915188</td>\n",
       "      <td>0.100000</td>\n",
       "    </tr>\n",
       "    <tr>\n",
       "      <th>7698</th>\n",
       "      <td>130.678469</td>\n",
       "      <td>0.545455</td>\n",
       "      <td>1480.76</td>\n",
       "      <td>1480.76</td>\n",
       "      <td>0.00</td>\n",
       "      <td>0.000000</td>\n",
       "      <td>0.333333</td>\n",
       "      <td>0.333333</td>\n",
       "      <td>0.000000</td>\n",
       "      <td>0.000000</td>\n",
       "      <td>0</td>\n",
       "      <td>19</td>\n",
       "      <td>1000.0</td>\n",
       "      <td>2441.727849</td>\n",
       "      <td>153.303679</td>\n",
       "      <td>1.000000</td>\n",
       "    </tr>\n",
       "    <tr>\n",
       "      <th>5583</th>\n",
       "      <td>79.222393</td>\n",
       "      <td>1.000000</td>\n",
       "      <td>994.96</td>\n",
       "      <td>463.20</td>\n",
       "      <td>531.76</td>\n",
       "      <td>0.000000</td>\n",
       "      <td>0.916667</td>\n",
       "      <td>0.333333</td>\n",
       "      <td>0.833333</td>\n",
       "      <td>0.000000</td>\n",
       "      <td>0</td>\n",
       "      <td>22</td>\n",
       "      <td>3500.0</td>\n",
       "      <td>612.645199</td>\n",
       "      <td>160.160912</td>\n",
       "      <td>0.900000</td>\n",
       "    </tr>\n",
       "    <tr>\n",
       "      <th>6656</th>\n",
       "      <td>23.083392</td>\n",
       "      <td>0.454545</td>\n",
       "      <td>447.96</td>\n",
       "      <td>0.00</td>\n",
       "      <td>447.96</td>\n",
       "      <td>0.000000</td>\n",
       "      <td>1.000000</td>\n",
       "      <td>0.000000</td>\n",
       "      <td>1.000000</td>\n",
       "      <td>0.000000</td>\n",
       "      <td>0</td>\n",
       "      <td>18</td>\n",
       "      <td>1500.0</td>\n",
       "      <td>287.049312</td>\n",
       "      <td>42.058028</td>\n",
       "      <td>0.083333</td>\n",
       "    </tr>\n",
       "  </tbody>\n",
       "</table>\n",
       "</div>"
      ],
      "text/plain": [
       "          BALANCE  BALANCE_FREQUENCY  PURCHASES  ONEOFF_PURCHASES  \\\n",
       "906   1701.203320           1.000000     302.00              0.00   \n",
       "4328   852.001697           0.727273     372.36              0.00   \n",
       "6615  1100.505764           1.000000     220.00            220.00   \n",
       "8419   510.339352           1.000000     509.55            509.55   \n",
       "7698   130.678469           0.545455    1480.76           1480.76   \n",
       "5583    79.222393           1.000000     994.96            463.20   \n",
       "6656    23.083392           0.454545     447.96              0.00   \n",
       "\n",
       "      INSTALLMENTS_PURCHASES  CASH_ADVANCE  PURCHASES_FREQUENCY  \\\n",
       "906                   302.00    796.570678             0.500000   \n",
       "4328                  372.36   1655.625508             0.416667   \n",
       "6615                    0.00      0.000000             0.166667   \n",
       "8419                    0.00    696.126211             0.250000   \n",
       "7698                    0.00      0.000000             0.333333   \n",
       "5583                  531.76      0.000000             0.916667   \n",
       "6656                  447.96      0.000000             1.000000   \n",
       "\n",
       "      ONEOFF_PURCHASES_FREQUENCY  PURCHASES_INSTALLMENTS_FREQUENCY  \\\n",
       "906                     0.000000                          0.416667   \n",
       "4328                    0.000000                          0.416667   \n",
       "6615                    0.166667                          0.000000   \n",
       "8419                    0.250000                          0.000000   \n",
       "7698                    0.333333                          0.000000   \n",
       "5583                    0.333333                          0.833333   \n",
       "6656                    0.000000                          1.000000   \n",
       "\n",
       "      CASH_ADVANCE_FREQUENCY  CASH_ADVANCE_TRX  PURCHASES_TRX  CREDIT_LIMIT  \\\n",
       "906                 0.083333                 1              6        2000.0   \n",
       "4328                0.166667                 3              5        4000.0   \n",
       "6615                0.000000                 0              2        1200.0   \n",
       "8419                0.166667                 4              6        2500.0   \n",
       "7698                0.000000                 0             19        1000.0   \n",
       "5583                0.000000                 0             22        3500.0   \n",
       "6656                0.000000                 0             18        1500.0   \n",
       "\n",
       "         PAYMENTS  MINIMUM_PAYMENTS  PRC_FULL_PAYMENT  \n",
       "906    784.873315        567.761469          0.000000  \n",
       "4328   347.937039        262.219868          0.000000  \n",
       "6615   344.856423        623.734943          0.000000  \n",
       "8419  1346.043822        194.915188          0.100000  \n",
       "7698  2441.727849        153.303679          1.000000  \n",
       "5583   612.645199        160.160912          0.900000  \n",
       "6656   287.049312         42.058028          0.083333  "
      ]
     },
     "execution_count": 4,
     "metadata": {},
     "output_type": "execute_result"
    }
   ],
   "source": [
    "# Droping irelevant columns\n",
    "df = df.drop(columns=['CUST_ID','TENURE'])\n",
    "df.sample(7)"
   ]
  },
  {
   "cell_type": "markdown",
   "metadata": {},
   "source": [
    "The strategy for handling missing data is to fill with the median value of column."
   ]
  },
  {
   "cell_type": "code",
   "execution_count": 5,
   "metadata": {},
   "outputs": [
    {
     "data": {
      "text/html": [
       "<div>\n",
       "<style scoped>\n",
       "    .dataframe tbody tr th:only-of-type {\n",
       "        vertical-align: middle;\n",
       "    }\n",
       "\n",
       "    .dataframe tbody tr th {\n",
       "        vertical-align: top;\n",
       "    }\n",
       "\n",
       "    .dataframe thead th {\n",
       "        text-align: right;\n",
       "    }\n",
       "</style>\n",
       "<table border=\"1\" class=\"dataframe\">\n",
       "  <thead>\n",
       "    <tr style=\"text-align: right;\">\n",
       "      <th></th>\n",
       "      <th>BALANCE</th>\n",
       "      <th>BALANCE_FREQUENCY</th>\n",
       "      <th>PURCHASES</th>\n",
       "      <th>ONEOFF_PURCHASES</th>\n",
       "      <th>INSTALLMENTS_PURCHASES</th>\n",
       "      <th>CASH_ADVANCE</th>\n",
       "      <th>PURCHASES_FREQUENCY</th>\n",
       "      <th>ONEOFF_PURCHASES_FREQUENCY</th>\n",
       "      <th>PURCHASES_INSTALLMENTS_FREQUENCY</th>\n",
       "      <th>CASH_ADVANCE_FREQUENCY</th>\n",
       "      <th>CASH_ADVANCE_TRX</th>\n",
       "      <th>PURCHASES_TRX</th>\n",
       "      <th>CREDIT_LIMIT</th>\n",
       "      <th>PAYMENTS</th>\n",
       "      <th>MINIMUM_PAYMENTS</th>\n",
       "      <th>PRC_FULL_PAYMENT</th>\n",
       "    </tr>\n",
       "  </thead>\n",
       "  <tbody>\n",
       "    <tr>\n",
       "      <th>1288</th>\n",
       "      <td>5858.617133</td>\n",
       "      <td>1.000000</td>\n",
       "      <td>2761.41</td>\n",
       "      <td>2484.65</td>\n",
       "      <td>276.76</td>\n",
       "      <td>0.000000</td>\n",
       "      <td>1.000000</td>\n",
       "      <td>0.666667</td>\n",
       "      <td>0.666667</td>\n",
       "      <td>0.000000</td>\n",
       "      <td>0</td>\n",
       "      <td>24</td>\n",
       "      <td>11000.0</td>\n",
       "      <td>1919.207449</td>\n",
       "      <td>1365.627377</td>\n",
       "      <td>0.000000</td>\n",
       "    </tr>\n",
       "    <tr>\n",
       "      <th>5090</th>\n",
       "      <td>1181.852384</td>\n",
       "      <td>1.000000</td>\n",
       "      <td>750.78</td>\n",
       "      <td>0.00</td>\n",
       "      <td>750.78</td>\n",
       "      <td>18.531069</td>\n",
       "      <td>0.500000</td>\n",
       "      <td>0.000000</td>\n",
       "      <td>0.500000</td>\n",
       "      <td>0.083333</td>\n",
       "      <td>1</td>\n",
       "      <td>6</td>\n",
       "      <td>1200.0</td>\n",
       "      <td>1080.501526</td>\n",
       "      <td>1752.604791</td>\n",
       "      <td>0.000000</td>\n",
       "    </tr>\n",
       "    <tr>\n",
       "      <th>2079</th>\n",
       "      <td>8636.950854</td>\n",
       "      <td>1.000000</td>\n",
       "      <td>972.09</td>\n",
       "      <td>43.00</td>\n",
       "      <td>929.09</td>\n",
       "      <td>2590.575082</td>\n",
       "      <td>1.000000</td>\n",
       "      <td>0.083333</td>\n",
       "      <td>1.000000</td>\n",
       "      <td>0.416667</td>\n",
       "      <td>8</td>\n",
       "      <td>26</td>\n",
       "      <td>10500.0</td>\n",
       "      <td>2025.270282</td>\n",
       "      <td>2959.401317</td>\n",
       "      <td>0.000000</td>\n",
       "    </tr>\n",
       "    <tr>\n",
       "      <th>1452</th>\n",
       "      <td>1117.368286</td>\n",
       "      <td>1.000000</td>\n",
       "      <td>972.38</td>\n",
       "      <td>0.00</td>\n",
       "      <td>972.38</td>\n",
       "      <td>0.000000</td>\n",
       "      <td>1.000000</td>\n",
       "      <td>0.000000</td>\n",
       "      <td>1.000000</td>\n",
       "      <td>0.000000</td>\n",
       "      <td>0</td>\n",
       "      <td>21</td>\n",
       "      <td>1900.0</td>\n",
       "      <td>667.050505</td>\n",
       "      <td>538.835764</td>\n",
       "      <td>0.000000</td>\n",
       "    </tr>\n",
       "    <tr>\n",
       "      <th>6038</th>\n",
       "      <td>204.166295</td>\n",
       "      <td>1.000000</td>\n",
       "      <td>2630.52</td>\n",
       "      <td>1769.34</td>\n",
       "      <td>861.18</td>\n",
       "      <td>0.000000</td>\n",
       "      <td>1.000000</td>\n",
       "      <td>0.750000</td>\n",
       "      <td>0.916667</td>\n",
       "      <td>0.000000</td>\n",
       "      <td>0</td>\n",
       "      <td>96</td>\n",
       "      <td>4000.0</td>\n",
       "      <td>2534.005357</td>\n",
       "      <td>176.114115</td>\n",
       "      <td>0.916667</td>\n",
       "    </tr>\n",
       "    <tr>\n",
       "      <th>1005</th>\n",
       "      <td>250.123525</td>\n",
       "      <td>0.909091</td>\n",
       "      <td>2655.99</td>\n",
       "      <td>2655.99</td>\n",
       "      <td>0.00</td>\n",
       "      <td>0.000000</td>\n",
       "      <td>0.916667</td>\n",
       "      <td>0.916667</td>\n",
       "      <td>0.000000</td>\n",
       "      <td>0.000000</td>\n",
       "      <td>0</td>\n",
       "      <td>21</td>\n",
       "      <td>3600.0</td>\n",
       "      <td>3155.893470</td>\n",
       "      <td>168.814522</td>\n",
       "      <td>0.727273</td>\n",
       "    </tr>\n",
       "    <tr>\n",
       "      <th>131</th>\n",
       "      <td>4637.848144</td>\n",
       "      <td>1.000000</td>\n",
       "      <td>1271.12</td>\n",
       "      <td>351.54</td>\n",
       "      <td>919.58</td>\n",
       "      <td>0.000000</td>\n",
       "      <td>0.833333</td>\n",
       "      <td>0.250000</td>\n",
       "      <td>0.833333</td>\n",
       "      <td>0.000000</td>\n",
       "      <td>0</td>\n",
       "      <td>33</td>\n",
       "      <td>5000.0</td>\n",
       "      <td>1906.032044</td>\n",
       "      <td>3572.279251</td>\n",
       "      <td>0.000000</td>\n",
       "    </tr>\n",
       "  </tbody>\n",
       "</table>\n",
       "</div>"
      ],
      "text/plain": [
       "          BALANCE  BALANCE_FREQUENCY  PURCHASES  ONEOFF_PURCHASES  \\\n",
       "1288  5858.617133           1.000000    2761.41           2484.65   \n",
       "5090  1181.852384           1.000000     750.78              0.00   \n",
       "2079  8636.950854           1.000000     972.09             43.00   \n",
       "1452  1117.368286           1.000000     972.38              0.00   \n",
       "6038   204.166295           1.000000    2630.52           1769.34   \n",
       "1005   250.123525           0.909091    2655.99           2655.99   \n",
       "131   4637.848144           1.000000    1271.12            351.54   \n",
       "\n",
       "      INSTALLMENTS_PURCHASES  CASH_ADVANCE  PURCHASES_FREQUENCY  \\\n",
       "1288                  276.76      0.000000             1.000000   \n",
       "5090                  750.78     18.531069             0.500000   \n",
       "2079                  929.09   2590.575082             1.000000   \n",
       "1452                  972.38      0.000000             1.000000   \n",
       "6038                  861.18      0.000000             1.000000   \n",
       "1005                    0.00      0.000000             0.916667   \n",
       "131                   919.58      0.000000             0.833333   \n",
       "\n",
       "      ONEOFF_PURCHASES_FREQUENCY  PURCHASES_INSTALLMENTS_FREQUENCY  \\\n",
       "1288                    0.666667                          0.666667   \n",
       "5090                    0.000000                          0.500000   \n",
       "2079                    0.083333                          1.000000   \n",
       "1452                    0.000000                          1.000000   \n",
       "6038                    0.750000                          0.916667   \n",
       "1005                    0.916667                          0.000000   \n",
       "131                     0.250000                          0.833333   \n",
       "\n",
       "      CASH_ADVANCE_FREQUENCY  CASH_ADVANCE_TRX  PURCHASES_TRX  CREDIT_LIMIT  \\\n",
       "1288                0.000000                 0             24       11000.0   \n",
       "5090                0.083333                 1              6        1200.0   \n",
       "2079                0.416667                 8             26       10500.0   \n",
       "1452                0.000000                 0             21        1900.0   \n",
       "6038                0.000000                 0             96        4000.0   \n",
       "1005                0.000000                 0             21        3600.0   \n",
       "131                 0.000000                 0             33        5000.0   \n",
       "\n",
       "         PAYMENTS  MINIMUM_PAYMENTS  PRC_FULL_PAYMENT  \n",
       "1288  1919.207449       1365.627377          0.000000  \n",
       "5090  1080.501526       1752.604791          0.000000  \n",
       "2079  2025.270282       2959.401317          0.000000  \n",
       "1452   667.050505        538.835764          0.000000  \n",
       "6038  2534.005357        176.114115          0.916667  \n",
       "1005  3155.893470        168.814522          0.727273  \n",
       "131   1906.032044       3572.279251          0.000000  "
      ]
     },
     "execution_count": 5,
     "metadata": {},
     "output_type": "execute_result"
    }
   ],
   "source": [
    "df = df.fillna(df.median())\n",
    "df.sample(7)"
   ]
  },
  {
   "cell_type": "markdown",
   "metadata": {},
   "source": [
    "Normalizing the dataset"
   ]
  },
  {
   "cell_type": "code",
   "execution_count": 6,
   "metadata": {},
   "outputs": [],
   "source": [
    "norm = Normalizer()\n",
    "norm.fit(df.values)\n",
    "df_norm = norm.transform(df)"
   ]
  },
  {
   "cell_type": "markdown",
   "metadata": {},
   "source": [
    "[[TOC]](#toc)<a id=\"kmeans\"></a>\n",
    "## 5. K-Means Clusterization"
   ]
  },
  {
   "cell_type": "code",
   "execution_count": 7,
   "metadata": {},
   "outputs": [],
   "source": [
    "kmeans = KMeans(n_clusters=5,n_init=10,max_iter=300)\n",
    "labels = kmeans.fit_predict(df_norm)"
   ]
  },
  {
   "cell_type": "markdown",
   "metadata": {},
   "source": [
    "### Silhouette Score"
   ]
  },
  {
   "cell_type": "code",
   "execution_count": 8,
   "metadata": {},
   "outputs": [
    {
     "name": "stderr",
     "output_type": "stream",
     "text": [
      "100%|██████████| 13/13 [00:33<00:00,  2.55s/it]\n"
     ]
    },
    {
     "data": {
      "image/png": "[encoded data removed]",
      "text/plain": [
       "<Figure size 432x288 with 1 Axes>"
      ]
     },
     "metadata": {
      "needs_background": "light"
     },
     "output_type": "display_data"
    },
    {
     "name": "stdout",
     "output_type": "stream",
     "text": [
      "\n",
      "The best number of clusters is 4 where the Silhouette score is 0.36.\n",
      "\n"
     ]
    }
   ],
   "source": [
    "\n",
    "\n",
    "def get_silhouette(dataset,n_clusters=3,n_init=10):\n",
    "    kmeans = KMeans(n_clusters=n_clusters,n_init=n_init,max_iter=300)\n",
    "    labels = kmeans.fit_predict(dataset)\n",
    "    return silhouette_score(dataset, labels, metric='euclidean')\n",
    "\n",
    "\n",
    "silh_list = np.array([get_silhouette(df_norm,n_clusters=k) for k in tqdm(range(2,15))])\n",
    "\n",
    "\n",
    "plt.plot(silh_list)\n",
    "plt.ylabel('Silhouete Score')\n",
    "plt.xlabel('n_clusters')\n",
    "plt.show()\n",
    "print(\"\"\"\n",
    "The best number of clusters is {} where the Silhouette score is {:.2f}.\n",
    "\"\"\".format(silh_list.argmax(),silh_list.max()))"
   ]
  },
  {
   "cell_type": "markdown",
   "metadata": {},
   "source": [
    "### Davies-Bouldin"
   ]
  },
  {
   "cell_type": "code",
   "execution_count": 9,
   "metadata": {},
   "outputs": [
    {
     "name": "stderr",
     "output_type": "stream",
     "text": [
      "100%|██████████| 13/13 [00:11<00:00,  1.14it/s]\n"
     ]
    },
    {
     "data": {
      "image/png": "[encoded data removed]",
      "text/plain": [
       "<Figure size 432x288 with 1 Axes>"
      ]
     },
     "metadata": {
      "needs_background": "light"
     },
     "output_type": "display_data"
    },
    {
     "name": "stdout",
     "output_type": "stream",
     "text": [
      "\n",
      "The best number of clusters is 4 where the Davies-Bouldin score is 1.05.\n",
      "\n"
     ]
    }
   ],
   "source": [
    "\n",
    "def get_davies_bouldin(dataset,n_clusters=3,n_init=10):\n",
    "    kmeans = KMeans(n_clusters=n_clusters,n_init=n_init,max_iter=300)\n",
    "    labels = kmeans.fit_predict(dataset)\n",
    "    return davies_bouldin_score(dataset, labels)\n",
    "\n",
    "dbs_list = np.array([get_davies_bouldin(df_norm,n_clusters=k) for k in tqdm(range(2,15))])\n",
    "\n",
    "\n",
    "\n",
    "plt.plot(dbs_list)\n",
    "plt.ylabel('Davies-Bouldin Score')\n",
    "plt.xlabel('n_clusters')\n",
    "plt.show()\n",
    "print(\"\"\"\n",
    "The best number of clusters is {} where the Davies-Bouldin score is {:.2f}.\n",
    "\"\"\".format(dbs_list.argmin(),dbs_list.min()))"
   ]
  },
  {
   "cell_type": "markdown",
   "metadata": {},
   "source": [
    "### Calinski Harabasz Score"
   ]
  },
  {
   "cell_type": "code",
   "execution_count": 14,
   "metadata": {},
   "outputs": [
    {
     "name": "stderr",
     "output_type": "stream",
     "text": [
      "\n",
      "  0%|          | 0/13 [00:00<?, ?it/s]\u001b[A\n",
      "  8%|▊         | 1/13 [00:00<00:02,  5.24it/s]\u001b[A\n",
      " 15%|█▌        | 2/13 [00:00<00:02,  4.14it/s]\u001b[A\n",
      " 23%|██▎       | 3/13 [00:00<00:02,  3.59it/s]\u001b[A\n",
      " 31%|███       | 4/13 [00:01<00:03,  2.88it/s]\u001b[A\n",
      " 38%|███▊      | 5/13 [00:02<00:03,  2.23it/s]\u001b[A\n",
      " 46%|████▌     | 6/13 [00:02<00:03,  1.81it/s]\u001b[A\n",
      " 54%|█████▍    | 7/13 [00:03<00:03,  1.61it/s]\u001b[A\n",
      " 62%|██████▏   | 8/13 [00:04<00:03,  1.33it/s]\u001b[A\n",
      " 69%|██████▉   | 9/13 [00:05<00:03,  1.15it/s]\u001b[A\n",
      " 77%|███████▋  | 10/13 [00:07<00:02,  1.03it/s]\u001b[A\n",
      " 85%|████████▍ | 11/13 [00:08<00:02,  1.04s/it]\u001b[A\n",
      " 92%|█████████▏| 12/13 [00:09<00:01,  1.13s/it]\u001b[A\n",
      "100%|██████████| 13/13 [00:11<00:00,  1.17it/s]\u001b[A\n"
     ]
    },
    {
     "data": {
      "image/png": "[encoded data removed]",
      "text/plain": [
       "<Figure size 432x288 with 1 Axes>"
      ]
     },
     "metadata": {
      "needs_background": "light"
     },
     "output_type": "display_data"
    },
    {
     "name": "stderr",
     "output_type": "stream",
     "text": [
      "\r",
      "  0%|          | 0/13 [01:40<?, ?it/s]"
     ]
    },
    {
     "name": "stdout",
     "output_type": "stream",
     "text": [
      "\n",
      "The best number of clusters is 2 where the Calinski Harabasz score is 3528.72.\n",
      "\n"
     ]
    },
    {
     "name": "stderr",
     "output_type": "stream",
     "text": [
      "\n"
     ]
    }
   ],
   "source": [
    "\n",
    "def get_calinski_harabasz(dataset,n_clusters=3,n_init=10):\n",
    "    kmeans = KMeans(n_clusters=n_clusters,n_init=n_init,max_iter=300)\n",
    "    labels = kmeans.fit_predict(dataset)\n",
    "    return calinski_harabasz_score(dataset, labels)\n",
    "\n",
    "cal_list = np.array([get_calinski_harabasz(df_norm,n_clusters=k) for k in tqdm(range(2,15))])\n",
    "\n",
    "plt.plot(cal_list)\n",
    "plt.ylabel('Calinski-Harabasz Score')\n",
    "plt.xlabel('n_clusters')\n",
    "plt.show()\n",
    "print(\"\"\"\n",
    "The best number of clusters is {} where the Calinski Harabasz score is {:.2f}.\n",
    "\"\"\".format(cal_list.argmax(),cal_list.max()))"
   ]
  },
  {
   "cell_type": "markdown",
   "metadata": {},
   "source": [
    "### Choosing the best number of cluster"
   ]
  },
  {
   "cell_type": "code",
   "execution_count": 15,
   "metadata": {},
   "outputs": [
    {
     "data": {
      "image/png": "[encoded data removed]",
      "text/plain": [
       "<Figure size 432x288 with 1 Axes>"
      ]
     },
     "metadata": {
      "needs_background": "light"
     },
     "output_type": "display_data"
    },
    {
     "name": "stdout",
     "output_type": "stream",
     "text": [
      "\n",
      "The best number of clusters is 4.\n",
      "\n"
     ]
    }
   ],
   "source": [
    "comb_index = np.array(list(map(lambda s,db,c: s*c/db ,silh_list,dbs_list,cal_list)))\n",
    "\n",
    "plt.plot(cal_list)\n",
    "plt.ylabel(' s * ch / db ')\n",
    "plt.xlabel('n_clusters')\n",
    "plt.show()\n",
    "\n",
    "\n",
    "# best number of cluste\n",
    "\n",
    "best_n_cluster = comb_index.argmax()\n",
    "\n",
    "print(\"\"\"\n",
    "The best number of clusters is {}.\n",
    "\"\"\".format(best_n_cluster))\n",
    "\n",
    "\n",
    "kmeans_best = KMeans(n_clusters=best_n_cluster,n_init=10,max_iter=300)\n",
    "labels_best = kmeans_best.fit_predict(df_norm)\n",
    "\n",
    "kmeans_metrics_best = {\n",
    "    'silhouette_score'       : silhouette_score(df_norm, labels_best, metric='euclidean'),\n",
    "    'davies_bouldin_score'   : davies_bouldin_score(df_norm, labels_best),\n",
    "    'calinski_harabasz_score': calinski_harabasz_score(df_norm, labels_best)\n",
    "}"
   ]
  },
  {
   "cell_type": "markdown",
   "metadata": {},
   "source": [
    "### Comparing with Random Data"
   ]
  },
  {
   "cell_type": "code",
   "execution_count": 16,
   "metadata": {},
   "outputs": [],
   "source": [
    "n_data,n_feat = df_norm.shape\n",
    "rnd_data = np.random.rand(n_data,n_feat)\n",
    "\n",
    "rnd_kmeans = KMeans(n_clusters=best_n_cluster,n_init=10,max_iter=300)\n",
    "rnd_labels = rnd_kmeans.fit_predict(rnd_data)\n",
    "\n",
    "rnd_kmeans_metrics = {\n",
    "    'silhouette_score'       : silhouette_score(rnd_data, rnd_labels, metric='euclidean'),\n",
    "    'davies_bouldin_score'   : davies_bouldin_score(rnd_data, rnd_labels),\n",
    "    'calinski_harabasz_score': calinski_harabasz_score(rnd_data, rnd_labels)\n",
    "}"
   ]
  },
  {
   "cell_type": "code",
   "execution_count": 18,
   "metadata": {},
   "outputs": [
    {
     "name": "stdout",
     "output_type": "stream",
     "text": [
      "model:  {'silhouette_score': 0.34825743673945714, 'davies_bouldin_score': 1.2212897290249243, 'calinski_harabasz_score': 3528.7176223195847}\n",
      "random:  {'silhouette_score': 0.04116094414072945, 'davies_bouldin_score': 3.6742281918019564, 'calinski_harabasz_score': 335.4387230459814}\n"
     ]
    }
   ],
   "source": [
    "print('model: ',kmeans_metrics_best)\n",
    "print('random: ',rnd_kmeans_metrics)"
   ]
  },
  {
   "cell_type": "code",
   "execution_count": 21,
   "metadata": {},
   "outputs": [
    {
     "data": {
      "text/html": [
       "<div>\n",
       "<style scoped>\n",
       "    .dataframe tbody tr th:only-of-type {\n",
       "        vertical-align: middle;\n",
       "    }\n",
       "\n",
       "    .dataframe tbody tr th {\n",
       "        vertical-align: top;\n",
       "    }\n",
       "\n",
       "    .dataframe thead th {\n",
       "        text-align: right;\n",
       "    }\n",
       "</style>\n",
       "<table border=\"1\" class=\"dataframe\">\n",
       "  <thead>\n",
       "    <tr style=\"text-align: right;\">\n",
       "      <th></th>\n",
       "      <th>model</th>\n",
       "      <th>random</th>\n",
       "    </tr>\n",
       "  </thead>\n",
       "  <tbody>\n",
       "    <tr>\n",
       "      <th>silhouette_score</th>\n",
       "      <td>0.348257</td>\n",
       "      <td>0.041161</td>\n",
       "    </tr>\n",
       "    <tr>\n",
       "      <th>davies_bouldin_score</th>\n",
       "      <td>1.221290</td>\n",
       "      <td>3.674228</td>\n",
       "    </tr>\n",
       "    <tr>\n",
       "      <th>calinski_harabasz_score</th>\n",
       "      <td>3528.717622</td>\n",
       "      <td>335.438723</td>\n",
       "    </tr>\n",
       "  </tbody>\n",
       "</table>\n",
       "</div>"
      ],
      "text/plain": [
       "                               model      random\n",
       "silhouette_score            0.348257    0.041161\n",
       "davies_bouldin_score        1.221290    3.674228\n",
       "calinski_harabasz_score  3528.717622  335.438723"
      ]
     },
     "execution_count": 21,
     "metadata": {},
     "output_type": "execute_result"
    }
   ],
   "source": [
    "pd.DataFrame([[kmeans_metrics_best[key],rnd_kmeans_metrics[key]] for key in kmeans_metrics_best],\n",
    "            columns = ['model','random'],\n",
    "            index = list(kmeans_metrics_best.keys())\n",
    "            )"
   ]
  },
  {
   "cell_type": "markdown",
   "metadata": {},
   "source": [
    "[[TOC]](#toc)<a id=\"resul\"></a>\n",
    "## 6. Results\n",
    "\n",
    "### Plotting pairs"
   ]
  },
  {
   "cell_type": "code",
   "execution_count": 155,
   "metadata": {},
   "outputs": [
    {
     "name": "stderr",
     "output_type": "stream",
     "text": [
      "100%|██████████| 17/17 [00:51<00:00,  3.05s/it]\n"
     ]
    },
    {
     "data": {
      "image/png": "[encoded data removed]",
      "text/plain": [
       "<Figure size 432x288 with 1 Axes>"
      ]
     },
     "metadata": {
      "needs_background": "light"
     },
     "output_type": "display_data"
    }
   ],
   "source": [
    "ix = 0;\n",
    "iy = 0;\n",
    "columns = list(df.columns)\n",
    "\n",
    "for colx in tqdm(columns):\n",
    "    ix += 1\n",
    "    iy  = 0\n",
    "    for coly in columns:\n",
    "        iy += 1\n",
    "        if iy < ix:\n",
    "            plt.close()\n",
    "            plt.scatter(df[colx], df[coly], c=labels_best, s=5, cmap='rainbow' )\n",
    "            plt.xlabel(colx)\n",
    "            plt.ylabel(coly)\n",
    "            plt.savefig('results/graphs/'+colx+'_x_'+coly+'.png')\n",
    "            plt.close()\n",
    "        \n",
    "        "
   ]
  },
  {
   "cell_type": "code",
   "execution_count": null,
   "metadata": {},
   "outputs": [],
   "source": [
    "# import matplotlib.pyplot as plt\n",
    "\n",
    "# plt.scatter(df['PURCHASES'], df['PAYMENTS'], c=labels_best, s=5, cmap='rainbow' )\n",
    "# plt.xlabel(\"valor total pago\")\n",
    "# plt.ylabel(\"valor total gasto\")\n",
    "# plt.show"
   ]
  },
  {
   "cell_type": "code",
   "execution_count": 178,
   "metadata": {},
   "outputs": [],
   "source": [
    "# import seaborn as sns\n",
    "\n",
    "# df['clusters'] = labels_best\n",
    "# #sns.pairplot(df[0:])\n",
    "\n",
    "# df.groupby('clusters').describe()"
   ]
  },
  {
   "cell_type": "markdown",
   "metadata": {},
   "source": [
    "### Representative Features"
   ]
  },
  {
   "cell_type": "markdown",
   "metadata": {},
   "source": [
    "Let's select the features which variance is greater than 0.01. "
   ]
  },
  {
   "cell_type": "code",
   "execution_count": 22,
   "metadata": {},
   "outputs": [],
   "source": [
    "centroids = kmeans_best.cluster_centers_\n",
    "max =len(centroids[0])\n",
    "tab_var = {}\n",
    "var_min = 0.01;\n",
    "\n",
    "for i in range(max):\n",
    "    var = centroids[:, i].var()\n",
    "    col = df.columns.values[i]\n",
    "    if var > var_min:\n",
    "        tab_var[col] = var\n",
    "        "
   ]
  },
  {
   "cell_type": "code",
   "execution_count": 24,
   "metadata": {},
   "outputs": [
    {
     "name": "stderr",
     "output_type": "stream",
     "text": [
      "100%|██████████| 5/5 [00:03<00:00,  1.47it/s]\n"
     ]
    }
   ],
   "source": [
    "ix = 0;\n",
    "iy = 0;\n",
    "columns = list(tab_var.keys())\n",
    "\n",
    "for colx in tqdm(columns):\n",
    "    ix += 1\n",
    "    iy  = 0\n",
    "    for coly in columns:\n",
    "        iy += 1\n",
    "        if iy < ix:\n",
    "            plt.close()\n",
    "            plt.scatter(df[colx], df[coly], c=labels_best, s=5, cmap='rainbow' )\n",
    "            plt.xlabel(colx)\n",
    "            plt.ylabel(coly)\n",
    "            plt.savefig('results/representative_features/'+colx+'_x_'+coly+'.png')\n",
    "            plt.close()\n",
    "        \n",
    "        "
   ]
  },
  {
   "cell_type": "markdown",
   "metadata": {},
   "source": [
    "### Customer Behaviours"
   ]
  },
  {
   "cell_type": "code",
   "execution_count": 28,
   "metadata": {
    "scrolled": true
   },
   "outputs": [
    {
     "data": {
      "text/html": [
       "<div>\n",
       "<style scoped>\n",
       "    .dataframe tbody tr th:only-of-type {\n",
       "        vertical-align: middle;\n",
       "    }\n",
       "\n",
       "    .dataframe tbody tr th {\n",
       "        vertical-align: top;\n",
       "    }\n",
       "\n",
       "    .dataframe thead th {\n",
       "        text-align: right;\n",
       "    }\n",
       "</style>\n",
       "<table border=\"1\" class=\"dataframe\">\n",
       "  <thead>\n",
       "    <tr style=\"text-align: right;\">\n",
       "      <th></th>\n",
       "      <th>BALANCE</th>\n",
       "      <th>PURCHASES</th>\n",
       "      <th>CASH_ADVANCE</th>\n",
       "      <th>CREDIT_LIMIT</th>\n",
       "      <th>PAYMENTS</th>\n",
       "      <th>PRC_FULL_PAYMENT</th>\n",
       "      <th>N_CLIENTS</th>\n",
       "    </tr>\n",
       "    <tr>\n",
       "      <th>clusters</th>\n",
       "      <th></th>\n",
       "      <th></th>\n",
       "      <th></th>\n",
       "      <th></th>\n",
       "      <th></th>\n",
       "      <th></th>\n",
       "      <th></th>\n",
       "    </tr>\n",
       "  </thead>\n",
       "  <tbody>\n",
       "    <tr>\n",
       "      <th>0</th>\n",
       "      <td>1112.504042</td>\n",
       "      <td>3108.849662</td>\n",
       "      <td>260.502413</td>\n",
       "      <td>3976.053870</td>\n",
       "      <td>3349.882383</td>\n",
       "      <td>0.272632</td>\n",
       "      <td>1657</td>\n",
       "    </tr>\n",
       "    <tr>\n",
       "      <th>1</th>\n",
       "      <td>494.425578</td>\n",
       "      <td>641.730856</td>\n",
       "      <td>154.870275</td>\n",
       "      <td>5174.713505</td>\n",
       "      <td>821.004877</td>\n",
       "      <td>0.241182</td>\n",
       "      <td>3366</td>\n",
       "    </tr>\n",
       "    <tr>\n",
       "      <th>2</th>\n",
       "      <td>3135.603247</td>\n",
       "      <td>520.790989</td>\n",
       "      <td>873.709081</td>\n",
       "      <td>4119.557362</td>\n",
       "      <td>1085.707366</td>\n",
       "      <td>0.001476</td>\n",
       "      <td>2214</td>\n",
       "    </tr>\n",
       "    <tr>\n",
       "      <th>3</th>\n",
       "      <td>2073.653488</td>\n",
       "      <td>300.188009</td>\n",
       "      <td>3428.814190</td>\n",
       "      <td>4142.861186</td>\n",
       "      <td>2798.379358</td>\n",
       "      <td>0.063577</td>\n",
       "      <td>1713</td>\n",
       "    </tr>\n",
       "  </tbody>\n",
       "</table>\n",
       "</div>"
      ],
      "text/plain": [
       "              BALANCE    PURCHASES  CASH_ADVANCE  CREDIT_LIMIT     PAYMENTS  \\\n",
       "clusters                                                                      \n",
       "0         1112.504042  3108.849662    260.502413   3976.053870  3349.882383   \n",
       "1          494.425578   641.730856    154.870275   5174.713505   821.004877   \n",
       "2         3135.603247   520.790989    873.709081   4119.557362  1085.707366   \n",
       "3         2073.653488   300.188009   3428.814190   4142.861186  2798.379358   \n",
       "\n",
       "          PRC_FULL_PAYMENT  N_CLIENTS  \n",
       "clusters                               \n",
       "0                 0.272632       1657  \n",
       "1                 0.241182       3366  \n",
       "2                 0.001476       2214  \n",
       "3                 0.063577       1713  "
      ]
     },
     "execution_count": 28,
     "metadata": {},
     "output_type": "execute_result"
    }
   ],
   "source": [
    "df['clusters'] = labels_best\n",
    "\n",
    "groupedby_cluster = df.groupby('clusters')[list(tab_var.keys())+['PRC_FULL_PAYMENT']]\n",
    "descr_mean  = groupedby_cluster.mean()\n",
    "descr_mean['N_CLIENTS'] = groupedby_cluster.size()\n",
    "descr_mean"
   ]
  }
 ],
 "metadata": {
  "kernelspec": {
   "display_name": "Python 3",
   "language": "python",
   "name": "python3"
  },
  "language_info": {
   "codemirror_mode": {
    "name": "ipython",
    "version": 3
   },
   "file_extension": ".py",
   "mimetype": "text/x-python",
   "name": "python",
   "nbconvert_exporter": "python",
   "pygments_lexer": "ipython3",
   "version": "3.7.6"
  },
  "toc": {
   "base_numbering": 1,
   "nav_menu": {},
   "number_sections": true,
   "sideBar": true,
   "skip_h1_title": false,
   "title_cell": "Table of Contents",
   "title_sidebar": "Contents",
   "toc_cell": false,
   "toc_position": {},
   "toc_section_display": true,
   "toc_window_display": false
  }
 },
 "nbformat": 4,
 "nbformat_minor": 4
}
